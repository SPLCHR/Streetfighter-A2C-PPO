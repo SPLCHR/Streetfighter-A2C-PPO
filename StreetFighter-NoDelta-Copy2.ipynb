{
 "cells": [
  {
   "cell_type": "markdown",
   "metadata": {},
   "source": [
    "# Street Fighter No Delta\n",
    "This notebook shows how to create the environment without the delta transformation. "
   ]
  },
  {
   "cell_type": "markdown",
   "metadata": {},
   "source": [
    "# Setup StreetFighter"
   ]
  },
  {
   "cell_type": "code",
   "execution_count": null,
   "metadata": {},
   "outputs": [],
   "source": [
    "import retro"
   ]
  },
  {
   "cell_type": "code",
   "execution_count": null,
   "metadata": {
    "tags": []
   },
   "outputs": [],
   "source": [
    "retro.data.list_games()"
   ]
  },
  {
   "cell_type": "code",
   "execution_count": null,
   "metadata": {},
   "outputs": [],
   "source": [
    "!python3 -m retro.import ."
   ]
  },
  {
   "cell_type": "code",
   "execution_count": null,
   "metadata": {},
   "outputs": [],
   "source": [
    "env = retro.make(game='StreetFighterIISpecialChampionEdition-Genesis')"
   ]
  },
  {
   "cell_type": "code",
   "execution_count": null,
   "metadata": {},
   "outputs": [],
   "source": [
    "obs = env.reset()"
   ]
  },
  {
   "cell_type": "code",
   "execution_count": null,
   "metadata": {
    "scrolled": true,
    "tags": []
   },
   "outputs": [],
   "source": [
    "obs = env.reset()\n",
    "done = False\n",
    "for game in range(5):\n",
    "    while not done: \n",
    "        if done: \n",
    "            obs = env.reset()\n",
    "        env.render()\n",
    "        obs, reward, done, info = env.step(env.action_space.sample())\n",
    "        print(reward)"
   ]
  },
  {
   "cell_type": "markdown",
   "metadata": {},
   "source": [
    "# Setup Environment"
   ]
  },
  {
   "cell_type": "code",
   "execution_count": null,
   "metadata": {},
   "outputs": [],
   "source": [
    "from gym import Env\n",
    "from gym.spaces import Box, MultiBinary\n",
    "import numpy as np\n",
    "import cv2\n",
    "import time\n",
    "import numpy \n"
   ]
  },
  {
   "cell_type": "code",
   "execution_count": null,
   "metadata": {},
   "outputs": [],
   "source": [
    "class StreetFighter(Env):\n",
    "    def __init__(self):\n",
    "        super().__init__()\n",
    "        self.observation_space = Box(low=0, high=255, shape=(84, 84, 1), dtype=np.uint8)\n",
    "        self.action_space = MultiBinary(12)\n",
    "        self.game = retro.make(game='StreetFighterIISpecialChampionEdition-Genesis', use_restricted_actions=retro.Actions.FILTERED)\n",
    "        #self.score = 0\n",
    "    \n",
    "    def step(self, action):\n",
    "        lst=[0]\n",
    "        obs, reward, done, info = self.game.step(action)\n",
    "        obs = self.preprocess(obs)\n",
    "        \n",
    "        # Preprocess frame from game\n",
    "        frame_delta = obs \n",
    "#       - self.previous_frame\n",
    "#         self.previous_frame = obs \n",
    "\n",
    "        \n",
    "        #### Shape reward\n",
    "        \n",
    "        #1st Variation (just score)\n",
    "        \n",
    "        reward = info['score'] - self.score \n",
    "        self.score = info['score']\n",
    "        \n",
    "        \n",
    "        #2nd Variation \n",
    "        \n",
    "        #if  info['health']==0 and info['enemy_health']==0:\n",
    "         #   reward=0\n",
    "          #  self.enemy_health = info['enemy_health']\n",
    "           # self.health = info['health']\n",
    "            \n",
    "        #if  info['health']<0 and info['health']!=self.health and info['enemy_health']!=0:\n",
    "         #   reward=(-176+((info['health'] - self.health)))*info['enemy_health']\n",
    "          #  self.enemy_health = info['enemy_health']\n",
    "           # self.health = info['health']\n",
    "            \n",
    "        #elif info['enemy_health']<0 and info['enemy_health']!=self.enemy_health and info['health']!=0:\n",
    "         #   reward=(176-(info['enemy_health'] - self.enemy_health))*(info['health'])\n",
    "          #  self.enemy_health = info['enemy_health']\n",
    "           # self.health = info['health'] \n",
    "            \n",
    "        #else: \n",
    "         #   reward=((info['health'] - self.health))-(info['enemy_health'] - self.enemy_health)\n",
    "          #  self.enemy_health = info['enemy_health']\n",
    "           # self.health = info['health']\n",
    "     \n",
    "    \n",
    "            \n",
    "         #3rd Variation \n",
    "        \n",
    "      #  rew2=((-176+(info['health']-self.health))* info['enemy_health'])\n",
    "       # rew4=(info['health'] - self.health)*10 #dmg absorbed\n",
    "        \n",
    "        \n",
    "        #if  info['health']==0 and info['enemy_health']==0:\n",
    "         #   reward=0\n",
    "          #  self.enemy_health = info['enemy_health']\n",
    "            #self.health = info['health']\n",
    "           # \n",
    "        #elif info['health']<0 and info['health']!=self.health and info['enemy_health']!=0:\n",
    "         #   reward=rew2+(rew2*info['enemy_matches_won']/20)#καποια σταθερα\n",
    "          #  self.enemy_health = info['enemy_health']\n",
    "           # self.health = info['health']\n",
    "            #self.score = info['score']\n",
    "            #\n",
    "        #elif info['enemy_health']<0 and info['enemy_health']!=self.enemy_health and info['health']!=0:\n",
    "         #   reward = info['score'] - self.score \n",
    "          #  self.score = info['score']\n",
    "           # self.enemy_health = info['enemy_health']\n",
    "            #self.health = info['health']\n",
    "            #\n",
    "        #else:\n",
    "         #   if  (info['health']< self.health) and (info['enemy_health']==self.enemy_health): \n",
    "          #     self.enemy_health = info['enemy_health']\n",
    "           #     self.health = info['health']\n",
    "            #    self.score = info['score']\n",
    "                \n",
    "            #elif (info['health']< self.health) and (info['enemy_health']< self.enemy_health):\n",
    "             #    reward= 10*(((info['health'] - self.health))-(info['enemy_health'] - self.enemy_health))#den pairnei score se isopalia\n",
    "              #   self.enemy_health = info['enemy_health']\n",
    "               #  self.health = info['health']   \n",
    "                # print('double_damage',reward)\n",
    "            #else:\n",
    "             #    reward = (info['score'] - self.score)   \n",
    "              #   self.score = info['score']\n",
    "               #  self.enemy_health = info['enemy_health']\n",
    "                # self.health = info['health']\n",
    "      \n",
    "        \n",
    "        \n",
    "        \n",
    "        \n",
    "        \n",
    "        \n",
    "        #######2/4nd Variation ((+) for doing damage or winning,(-) for taking damage or losing)\n",
    "        \n",
    "        #if info['health']<=0 and info['health']!=self.health and info['enemy_health']==0:\n",
    "         #   reward=-176\n",
    "          #  self.enemy_health = info['enemy_health']\n",
    "           # self.health = info['health']\n",
    "            \n",
    "        #elif info['enemy_health']<=0 and info['enemy_health']!=self.enemy_health and info['health']==0:\n",
    "         #   reward=176\n",
    "          #  self.enemy_health = info['enemy_health']\n",
    "           # self.health = info['health'] \n",
    "            \n",
    "        #elif info['health']<=59 and info['health']!=self.health and info['enemy_health']!=0:\n",
    "         #   reward=10*(info['health'] - self.health)-(info['enemy_health'] - self.enemy_health)\n",
    "          #  self.enemy_health = info['enemy_health']\n",
    "           # self.health = info['health']\n",
    "            \n",
    "        #elif info['enemy_health']<=59 and info['enemy_health']!=self.enemy_health and info['health']!=0:\n",
    "         #   reward=(info['health'] - self.health)-10*(info['enemy_health'] - self.enemy_health)\n",
    "          #  self.enemy_health = info['enemy_health']\n",
    "           # self.health = info['health']  \n",
    "            \n",
    "       # else: \n",
    "        #    reward=((info['health'] - self.health))-(info['enemy_health'] - self.enemy_health)\n",
    "         #   self.enemy_health = info['enemy_health']\n",
    "          #  self.health = info['health']\n",
    "              \n",
    "                                                             \n",
    "        return frame_delta, reward, done, info, \n",
    "    \n",
    "    def render(self, *args, **kwargs): \n",
    "        self.game.render()\n",
    "    \n",
    "    def reset(self):\n",
    "        self.previous_frame = np.zeros(self.game.observation_space.shape)\n",
    "        \n",
    "        # Frame delta\n",
    "        obs = self.game.reset()\n",
    "        obs = self.preprocess(obs)\n",
    "        self.previous_frame = obs\n",
    "        \n",
    "        # Create initial variables\n",
    "        self.score = 0\n",
    "        \n",
    "        #self.enemy_health=0\n",
    "        #self.health=0\n",
    "\n",
    "        return obs\n",
    "    \n",
    "    def preprocess(self, observation): \n",
    "        gray = cv2.cvtColor(observation, cv2.COLOR_BGR2GRAY)\n",
    "        resize = cv2.resize(gray, (84,84), interpolation=cv2.INTER_CUBIC)\n",
    "        state = np.reshape(resize, (84,84,1))\n",
    "        return state\n",
    "    \n",
    "    def close(self): \n",
    "        self.game.close()"
   ]
  },
  {
   "cell_type": "code",
   "execution_count": null,
   "metadata": {},
   "outputs": [],
   "source": [
    "env.close()\n"
   ]
  },
  {
   "cell_type": "code",
   "execution_count": null,
   "metadata": {
    "tags": []
   },
   "outputs": [],
   "source": [
    "env = StreetFighter()"
   ]
  },
  {
   "cell_type": "code",
   "execution_count": null,
   "metadata": {
    "scrolled": false
   },
   "outputs": [],
   "source": [
    "env.observation_space.shape"
   ]
  },
  {
   "cell_type": "code",
   "execution_count": null,
   "metadata": {},
   "outputs": [],
   "source": [
    "obs = env.reset()\n",
    "done = False\n",
    "for game in range(5):\n",
    "    while not done: \n",
    "        if done: \n",
    "            obs = env.reset()\n",
    "        env.render()\n",
    "        obs, reward, done, info = env.step(env.action_space.sample())\n",
    "        if reward!=0:\n",
    "           print(reward,info['health'],info['enemy_health'])\n",
    "        time.sleep(0.01)"
   ]
  },
  {
   "cell_type": "code",
   "execution_count": null,
   "metadata": {},
   "outputs": [],
   "source": [
    "!pip3 install torch==1.10.1+cu113 torchvision==0.11.2+cu113 torchaudio===0.10.1+cu113 -f https://download.pytorch.org/whl/cu113/torch_stable.html"
   ]
  },
  {
   "cell_type": "code",
   "execution_count": null,
   "metadata": {
    "scrolled": true,
    "tags": []
   },
   "outputs": [],
   "source": [
    "!python3 -m pip install stable-baselines3[extra] "
   ]
  },
  {
   "cell_type": "code",
   "execution_count": null,
   "metadata": {},
   "outputs": [],
   "source": [
    "import torch\n",
    "torch.cuda.empty_cache()"
   ]
  },
  {
   "cell_type": "code",
   "execution_count": null,
   "metadata": {},
   "outputs": [],
   "source": [
    "# Import A2C for algos\n",
    "from stable_baselines3 import A2C\n",
    "# Evaluate Policy\n",
    "from stable_baselines3.common.evaluation import evaluate_policy\n",
    "# Import wrappers\n",
    "from stable_baselines3.common.monitor import Monitor\n",
    "from stable_baselines3.common.vec_env import DummyVecEnv, VecFrameStack\n",
    "import os \n",
    "import optuna"
   ]
  },
  {
   "cell_type": "code",
   "execution_count": null,
   "metadata": {},
   "outputs": [],
   "source": [
    "LOG_DIR = './logs/'\n",
    "OPT_DIR = './opt_nodelta'"
   ]
  },
  {
   "cell_type": "markdown",
   "metadata": {
    "tags": []
   },
   "source": [
    "# Setup Callback"
   ]
  },
  {
   "cell_type": "code",
   "execution_count": null,
   "metadata": {},
   "outputs": [],
   "source": [
    "# Import os for file path management\n",
    "import os \n",
    "# Import Base Callback for saving models\n",
    "from stable_baselines3.common.callbacks import BaseCallback"
   ]
  },
  {
   "cell_type": "code",
   "execution_count": null,
   "metadata": {},
   "outputs": [],
   "source": [
    "class TrainAndLoggingCallback(BaseCallback):\n",
    "\n",
    "    def __init__(self, check_freq, save_path, verbose=1):\n",
    "        super(TrainAndLoggingCallback, self).__init__(verbose)\n",
    "        self.check_freq = check_freq\n",
    "        self.save_path = save_path\n",
    "\n",
    "    def _init_callback(self):\n",
    "        if self.save_path is not None:\n",
    "            os.makedirs(self.save_path, exist_ok=True)\n",
    "\n",
    "    def _on_step(self):\n",
    "        if self.n_calls % self.check_freq == 0:\n",
    "            model_path = os.path.join(self.save_path, 'best_model_{}'.format(self.n_calls))\n",
    "            self.model.save(model_path)\n",
    "\n",
    "        return True"
   ]
  },
  {
   "cell_type": "code",
   "execution_count": null,
   "metadata": {},
   "outputs": [],
   "source": [
    "CHECKPOINT_DIR = './train_a2c_rew1_rmsprop(opt)/'"
   ]
  },
  {
   "cell_type": "code",
   "execution_count": null,
   "metadata": {},
   "outputs": [],
   "source": [
    "callback = TrainAndLoggingCallback(check_freq=10000, save_path=CHECKPOINT_DIR)"
   ]
  },
  {
   "cell_type": "markdown",
   "metadata": {},
   "source": [
    "# Train Model"
   ]
  },
  {
   "cell_type": "code",
   "execution_count": null,
   "metadata": {},
   "outputs": [],
   "source": [
    "env.close()"
   ]
  },
  {
   "cell_type": "code",
   "execution_count": null,
   "metadata": {},
   "outputs": [],
   "source": [
    "env = StreetFighter()\n",
    "env = Monitor(env, LOG_DIR)\n",
    "env = DummyVecEnv([lambda: env])\n",
    "env = VecFrameStack(env, 4, channels_order='last')"
   ]
  },
  {
   "cell_type": "code",
   "execution_count": null,
   "metadata": {},
   "outputs": [],
   "source": [
    "model_params = {'n_steps': 50, 'gamma': 0.99, 'gae_lambda':1, 'learning_rate': 7e-5, 'vf_coef': 0.5,'ent_coef': 0.0,'max_grad_norm':0.5, 'rms_prop_eps':1e-05 }\n",
    "# opt1 A2C-21 (REW1)  model_params = {'n_steps': 50, 'gamma': 0.99, 'gae_lambda':1, 'learning_rate': 7e-5, 'vf_coef': 0.5,'ent_coef': 0.0,'max_grad_norm':0.5, 'rms_prop_eps':1e-05 }\n",
    "#default model_params = {'n_steps': 5, 'gamma': 0.99, 'gae_lambda':1, 'learning_rate': 7e-4, 'vf_coef': 0.5,'ent_coef': 0.0,'max_grad_norm':0.5, 'rms_prop_eps':1e-05 }"
   ]
  },
  {
   "cell_type": "code",
   "execution_count": null,
   "metadata": {},
   "outputs": [],
   "source": [
    "model_params"
   ]
  },
  {
   "cell_type": "code",
   "execution_count": null,
   "metadata": {},
   "outputs": [],
   "source": [
    "import torch\n",
    "from torch.optim import Optimizer"
   ]
  },
  {
   "cell_type": "code",
   "execution_count": null,
   "metadata": {},
   "outputs": [],
   "source": [
    "class RMSpropTF(Optimizer):\n",
    "    \"\"\"Implements RMSprop algorithm (TensorFlow style epsilon)\n",
    "    NOTE: This is a direct cut-and-paste of PyTorch RMSprop with eps applied before sqrt\n",
    "    and a few other modifications to closer match Tensorflow for matching hyper-params.\n",
    "    Noteworthy changes include:\n",
    "    1. Epsilon applied inside square-root\n",
    "    2. square_avg initialized to ones\n",
    "    3. LR scaling of update accumulated in momentum buffer\n",
    "    Proposed by G. Hinton in his\n",
    "    `course <http://www.cs.toronto.edu/~tijmen/csc321/slides/lecture_slides_lec6.pdf>`_.\n",
    "    The centered version first appears in `Generating Sequences\n",
    "    With Recurrent Neural Networks <https://arxiv.org/pdf/1308.0850v5.pdf>`_.\n",
    "    Arguments:\n",
    "        params (iterable): iterable of parameters to optimize or dicts defining\n",
    "            parameter groups\n",
    "        lr (float, optional): learning rate (default: 1e-2)\n",
    "        momentum (float, optional): momentum factor (default: 0)\n",
    "        alpha (float, optional): smoothing (decay) constant (default: 0.9)\n",
    "        eps (float, optional): term added to the denominator to improve\n",
    "            numerical stability (default: 1e-10)\n",
    "        centered (bool, optional) : if ``True``, compute the centered RMSProp,\n",
    "            the gradient is normalized by an estimation of its variance\n",
    "        weight_decay (float, optional): weight decay (L2 penalty) (default: 0)\n",
    "        decoupled_decay (bool, optional): decoupled weight decay as per https://arxiv.org/abs/1711.05101\n",
    "        lr_in_momentum (bool, optional): learning rate scaling is included in the momentum buffer\n",
    "            update as per defaults in Tensorflow\n",
    "    \"\"\"\n",
    "\n",
    "    def __init__(self, params, lr=1e-2, alpha=0.9, eps=1e-10, weight_decay=0, momentum=0., centered=False,\n",
    "                 decoupled_decay=False, lr_in_momentum=True):\n",
    "        if not 0.0 <= lr:\n",
    "            raise ValueError(\"Invalid learning rate: {}\".format(lr))\n",
    "        if not 0.0 <= eps:\n",
    "            raise ValueError(\"Invalid epsilon value: {}\".format(eps))\n",
    "        if not 0.0 <= momentum:\n",
    "            raise ValueError(\"Invalid momentum value: {}\".format(momentum))\n",
    "        if not 0.0 <= weight_decay:\n",
    "            raise ValueError(\"Invalid weight_decay value: {}\".format(weight_decay))\n",
    "        if not 0.0 <= alpha:\n",
    "            raise ValueError(\"Invalid alpha value: {}\".format(alpha))\n",
    "\n",
    "        defaults = dict(\n",
    "            lr=lr, momentum=momentum, alpha=alpha, eps=eps, centered=centered, weight_decay=weight_decay,\n",
    "            decoupled_decay=decoupled_decay, lr_in_momentum=lr_in_momentum)\n",
    "        super(RMSpropTF, self).__init__(params, defaults)\n",
    "\n",
    "    def __setstate__(self, state):\n",
    "        super(RMSpropTF, self).__setstate__(state)\n",
    "        for group in self.param_groups:\n",
    "            group.setdefault('momentum', 0)\n",
    "            group.setdefault('centered', False)\n",
    "\n",
    "    @torch.no_grad()\n",
    "    def step(self, closure=None):\n",
    "        \"\"\"Performs a single optimization step.\n",
    "        Arguments:\n",
    "            closure (callable, optional): A closure that reevaluates the model\n",
    "                and returns the loss.\n",
    "        \"\"\"\n",
    "        loss = None\n",
    "        if closure is not None:\n",
    "            with torch.enable_grad():\n",
    "                loss = closure()\n",
    "\n",
    "        for group in self.param_groups:\n",
    "            for p in group['params']:\n",
    "                if p.grad is None:\n",
    "                    continue\n",
    "                grad = p.grad\n",
    "                if grad.is_sparse:\n",
    "                    raise RuntimeError('RMSprop does not support sparse gradients')\n",
    "                state = self.state[p]\n",
    "\n",
    "                # State initialization\n",
    "                if len(state) == 0:\n",
    "                    state['step'] = 0\n",
    "                    state['square_avg'] = torch.ones_like(p)  # PyTorch inits to zero\n",
    "                    if group['momentum'] > 0:\n",
    "                        state['momentum_buffer'] = torch.zeros_like(p)\n",
    "                    if group['centered']:\n",
    "                        state['grad_avg'] = torch.zeros_like(p)\n",
    "\n",
    "                square_avg = state['square_avg']\n",
    "                one_minus_alpha = 1. - group['alpha']\n",
    "\n",
    "                state['step'] += 1\n",
    "\n",
    "                if group['weight_decay'] != 0:\n",
    "                    if group['decoupled_decay']:\n",
    "                        p.mul_(1. - group['lr'] * group['weight_decay'])\n",
    "                    else:\n",
    "                        grad = grad.add(p, alpha=group['weight_decay'])\n",
    "\n",
    "                # Tensorflow order of ops for updating squared avg\n",
    "                square_avg.add_(grad.pow(2) - square_avg, alpha=one_minus_alpha)\n",
    "                # square_avg.mul_(alpha).addcmul_(grad, grad, value=1 - alpha)  # PyTorch original\n",
    "\n",
    "                if group['centered']:\n",
    "                    grad_avg = state['grad_avg']\n",
    "                    grad_avg.add_(grad - grad_avg, alpha=one_minus_alpha)\n",
    "                    avg = square_avg.addcmul(grad_avg, grad_avg, value=-1).add(group['eps']).sqrt_()  # eps in sqrt\n",
    "                    # grad_avg.mul_(alpha).add_(grad, alpha=1 - alpha)  # PyTorch original\n",
    "                else:\n",
    "                    avg = square_avg.add(group['eps']).sqrt_()  # eps moved in sqrt\n",
    "\n",
    "                if group['momentum'] > 0:\n",
    "                    buf = state['momentum_buffer']\n",
    "                    # Tensorflow accumulates the LR scaling in the momentum buffer\n",
    "                    if group['lr_in_momentum']:\n",
    "                        buf.mul_(group['momentum']).addcdiv_(grad, avg, value=group['lr'])\n",
    "                        p.add_(-buf)\n",
    "                    else:\n",
    "                        # PyTorch scales the param update by LR\n",
    "                        buf.mul_(group['momentum']).addcdiv_(grad, avg)\n",
    "                        p.add_(buf, alpha=-group['lr'])\n",
    "                else:\n",
    "                    p.addcdiv_(grad, avg, value=-group['lr'])\n",
    "\n",
    "        return loss"
   ]
  },
  {
   "cell_type": "code",
   "execution_count": null,
   "metadata": {},
   "outputs": [],
   "source": [
    "#model = A2C('CnnPolicy', env, tensorboard_log=LOG_DIR, verbose=1, **model_params)\n",
    "model = A2C('CnnPolicy', env, tensorboard_log=LOG_DIR, verbose=1, **model_params, policy_kwargs=dict(optimizer_class=RMSpropTF))"
   ]
  },
  {
   "cell_type": "code",
   "execution_count": null,
   "metadata": {
    "scrolled": true,
    "tags": []
   },
   "outputs": [],
   "source": [
    "model.learn(total_timesteps=10000000, callback=callback)"
   ]
  },
  {
   "cell_type": "code",
   "execution_count": null,
   "metadata": {},
   "outputs": [],
   "source": [
    "env.close()"
   ]
  },
  {
   "cell_type": "markdown",
   "metadata": {},
   "source": [
    "# Evaluate the Model"
   ]
  },
  {
   "cell_type": "code",
   "execution_count": null,
   "metadata": {},
   "outputs": [],
   "source": [
    "model = A2C.load('/media/user/My Passport/babis arxeia/train_a2c_rew1/best_model_8000000.zip')"
   ]
  },
  {
   "cell_type": "code",
   "execution_count": null,
   "metadata": {},
   "outputs": [],
   "source": [
    "env = StreetFighter()\n",
    "env = Monitor(env, LOG_DIR)\n",
    "env = DummyVecEnv([lambda: env])\n",
    "env = VecFrameStack(env, 4, channels_order='last')"
   ]
  },
  {
   "cell_type": "code",
   "execution_count": null,
   "metadata": {
    "tags": []
   },
   "outputs": [],
   "source": [
    "mean_reward, _ = evaluate_policy(model, env, n_eval_episodes=10, render=True)#n_eval_episodes=10"
   ]
  },
  {
   "cell_type": "code",
   "execution_count": null,
   "metadata": {
    "tags": []
   },
   "outputs": [],
   "source": [
    "mean_reward"
   ]
  },
  {
   "cell_type": "code",
   "execution_count": null,
   "metadata": {},
   "outputs": [],
   "source": [
    "env.close()"
   ]
  },
  {
   "cell_type": "markdown",
   "metadata": {},
   "source": [
    "# Test out the Model"
   ]
  },
  {
   "cell_type": "code",
   "execution_count": null,
   "metadata": {},
   "outputs": [],
   "source": [
    "import time"
   ]
  },
  {
   "cell_type": "code",
   "execution_count": null,
   "metadata": {},
   "outputs": [],
   "source": [
    "for episode in range(1): \n",
    "    obs = env.reset()\n",
    "    done = False\n",
    "    total_reward = 0\n",
    "    while not done: \n",
    "        action, _ = model.predict(obs)\n",
    "        obs, reward, done, info = env.step(action)\n",
    "        env.render()\n",
    "       # time.sleep(0.01)\n",
    "        total_reward += reward\n",
    "    print('Total Reward for episode {} is {}'.format(total_reward, episode))\n",
    "    time.sleep(2)"
   ]
  },
  {
   "cell_type": "code",
   "execution_count": null,
   "metadata": {},
   "outputs": [],
   "source": []
  }
 ],
 "metadata": {
  "kernelspec": {
   "display_name": "Python 3",
   "language": "python",
   "name": "python3"
  },
  "language_info": {
   "codemirror_mode": {
    "name": "ipython",
    "version": 3
   },
   "file_extension": ".py",
   "mimetype": "text/x-python",
   "name": "python",
   "nbconvert_exporter": "python",
   "pygments_lexer": "ipython3",
   "version": "3.8.10"
  }
 },
 "nbformat": 4,
 "nbformat_minor": 4
}
