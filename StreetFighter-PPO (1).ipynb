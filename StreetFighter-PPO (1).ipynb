{
 "cells": [
  {
   "cell_type": "markdown",
   "metadata": {},
   "source": [
    "# Street Fighter PPO\n",
    "This notebook shows how to create the environment without the delta transformation. "
   ]
  },
  {
   "cell_type": "code",
   "execution_count": null,
   "metadata": {},
   "outputs": [],
   "source": [
    "import retro"
   ]
  },
  {
   "cell_type": "code",
   "execution_count": null,
   "metadata": {},
   "outputs": [],
   "source": [
    "env = retro.make(game='StreetFighterIISpecialChampionEdition-Genesis')"
   ]
  },
  {
   "cell_type": "code",
   "execution_count": null,
   "metadata": {},
   "outputs": [],
   "source": [
    "obs = env.reset()"
   ]
  },
  {
   "cell_type": "code",
   "execution_count": null,
   "metadata": {
    "scrolled": true,
    "tags": []
   },
   "outputs": [],
   "source": [
    "obs = env.reset()\n",
    "done = False\n",
    "for game in range(5):\n",
    "    while not done: \n",
    "        if done: \n",
    "            obs = env.reset()\n",
    "        env.render()\n",
    "        obs, reward, done, info = env.step(env.action_space.sample())\n",
    "        print(reward)"
   ]
  },
  {
   "cell_type": "code",
   "execution_count": null,
   "metadata": {},
   "outputs": [],
   "source": [
    "info"
   ]
  },
  {
   "cell_type": "code",
   "execution_count": null,
   "metadata": {},
   "outputs": [],
   "source": [
    "env.action_space.sample()"
   ]
  },
  {
   "cell_type": "code",
   "execution_count": null,
   "metadata": {
    "scrolled": true,
    "tags": []
   },
   "outputs": [],
   "source": [
    "env.observation_space.sample()"
   ]
  },
  {
   "cell_type": "code",
   "execution_count": null,
   "metadata": {},
   "outputs": [],
   "source": [
    "env.close()"
   ]
  },
  {
   "cell_type": "code",
   "execution_count": null,
   "metadata": {},
   "outputs": [],
   "source": [
    "from gym import Env\n",
    "from gym.spaces import Box, MultiBinary\n",
    "import numpy as np\n",
    "import cv2\n",
    "import time"
   ]
  },
  {
   "cell_type": "code",
   "execution_count": null,
   "metadata": {},
   "outputs": [],
   "source": [
    "class StreetFighter(Env):\n",
    "    def __init__(self):\n",
    "        super().__init__()\n",
    "        self.observation_space = Box(low=0, high=255, shape=(84, 84, 1), dtype=np.uint8)\n",
    "        self.action_space = MultiBinary(12)\n",
    "        self.game = retro.make(game='StreetFighterIISpecialChampionEdition-Genesis', use_restricted_actions=retro.Actions.FILTERED)\n",
    "        #self.score = 0\n",
    "    \n",
    "    def step(self, action):\n",
    "        lst=[0]\n",
    "        obs, reward, done, info = self.game.step(action)\n",
    "        obs = self.preprocess(obs)\n",
    "        \n",
    "       \n",
    "        frame_delta = obs \n",
    "\n",
    "        ##-- Shape reward--##\n",
    "        \n",
    "        #1st Variation \n",
    "        \n",
    "        reward = info['score'] - self.score \n",
    "        self.score = info['score']\n",
    "        \n",
    "        \n",
    "        \n",
    "        #2nd Variation ((+) for doing damage or winning,(-) for taking damage or losing based on health and enemy_health)\n",
    "        \n",
    "        #if  info['health']==0 and info['enemy_health']==0:\n",
    "         #   reward=0\n",
    "          #  self.enemy_health = info['enemy_health']\n",
    "           # self.health = info['health']\n",
    "            \n",
    "        #if  info['health']<0 and info['health']!=self.health and info['enemy_health']!=0:\n",
    "         #   reward=(-176+((info['health'] - self.health)))*info['enemy_health']\n",
    "          #  self.enemy_health = info['enemy_health']\n",
    "           # self.health = info['health']\n",
    "            \n",
    "        #elif info['enemy_health']<0 and info['enemy_health']!=self.enemy_health and info['health']!=0:\n",
    "         #   reward=(176-(info['enemy_health'] - self.enemy_health))*(info['health'])\n",
    "          #  self.enemy_health = info['enemy_health']\n",
    "           # self.health = info['health'] \n",
    "            \n",
    "        #else: \n",
    "         #   reward=((info['health'] - self.health))-(info['enemy_health'] - self.enemy_health)\n",
    "          #  self.enemy_health = info['enemy_health']\n",
    "           # self.health = info['health']\n",
    "     \n",
    "    \n",
    "            \n",
    "         #3rd Variation \n",
    "        \n",
    "        #rew2=((-176+(info['health']-self.health))* info['enemy_health'])\n",
    "        #rew4=(info['health'] - self.health)*10 #dmg absorbed\n",
    "        \n",
    "        \n",
    "       # if  info['health']==0 and info['enemy_health']==0:\n",
    "        #    reward=0\n",
    "         #   self.enemy_health = info['enemy_health']\n",
    "          #  self.health = info['health']\n",
    "            \n",
    "        #elif info['health']<0 and info['health']!=self.health and info['enemy_health']!=0:\n",
    "         #   reward=rew2+(rew2*info['enemy_matches_won']/10)  #καποια σταθερα\n",
    "          #  self.enemy_health = info['enemy_health']\n",
    "           # self.health = info['health']\n",
    "            #self.score = info['score']\n",
    "            \n",
    "        #elif info['enemy_health']<0 and info['enemy_health']!=self.enemy_health and info['health']!=0:\n",
    "         #   reward = info['score'] - self.score \n",
    "          #  self.score = info['score']\n",
    "           # self.enemy_health = info['enemy_health']\n",
    "            #self.health = info['health']\n",
    "            \n",
    "        #else:\n",
    "         #   if  (info['health']< self.health) and (info['enemy_health']==self.enemy_health): \n",
    "          #      reward= rew4+(rew4*info['enemy_matches_won']/10)\n",
    "           #     self.enemy_health = info['enemy_health']\n",
    "            #    self.health = info['health']\n",
    "             #   self.score = info['score']\n",
    "                \n",
    "            #elif (info['health']< self.health) and (info['enemy_health']< self.enemy_health):\n",
    "             #    reward= 10*(((info['health'] - self.health))-(info['enemy_health'] - self.enemy_health))#den pairnei score se isopalia\n",
    "              #   self.enemy_health = info['enemy_health']\n",
    "               #  self.health = info['health']   \n",
    "                # print('double_damage',reward)\n",
    "            #else:\n",
    "             #    reward = (info['score'] - self.score)   \n",
    "              #   self.score = info['score']\n",
    "               #  self.enemy_health = info['enemy_health']\n",
    "                # self.health = info['health']\n",
    "                                                        \n",
    "        return frame_delta, reward, done, info, \n",
    "    \n",
    "    \n",
    "    def render(self, *args, **kwargs): \n",
    "        self.game.render()\n",
    "    \n",
    "    def reset(self):\n",
    "        self.previous_frame = np.zeros(self.game.observation_space.shape)\n",
    "        \n",
    "        # Frame delta\n",
    "        obs = self.game.reset()\n",
    "        obs = self.preprocess(obs)\n",
    "        self.previous_frame = obs\n",
    "        \n",
    "        # Create initial variables\n",
    "        self.score = 0       \n",
    "        #self.enemy_health=0\n",
    "        #self.health=0\n",
    "    \n",
    "        return obs\n",
    "    \n",
    "    def preprocess(self, observation): \n",
    "        gray = cv2.cvtColor(observation, cv2.COLOR_BGR2GRAY)\n",
    "        resize = cv2.resize(gray, (84,84), interpolation=cv2.INTER_CUBIC)\n",
    "        state = np.reshape(resize, (84,84,1))\n",
    "        return state\n",
    "    \n",
    "    def close(self): \n",
    "        self.game.close()"
   ]
  },
  {
   "cell_type": "code",
   "execution_count": null,
   "metadata": {},
   "outputs": [],
   "source": [
    "env=StreetFighter()"
   ]
  },
  {
   "cell_type": "code",
   "execution_count": null,
   "metadata": {},
   "outputs": [],
   "source": [
    "import time"
   ]
  },
  {
   "cell_type": "code",
   "execution_count": null,
   "metadata": {
    "scrolled": true
   },
   "outputs": [],
   "source": [
    "obs = env.reset()\n",
    "done = False\n",
    "for game in range(5):\n",
    "    while not done: \n",
    "        if done: \n",
    "            obs = env.reset()\n",
    "        env.render()\n",
    "        obs, reward, done, info = env.step(env.action_space.sample())\n",
    "        if reward!=0:\n",
    "           print(reward,info['health'],info['enemy_health'], info['score'], info['matches_won'], info['enemy_matches_won'])\n",
    "        time.sleep(0.01)"
   ]
  },
  {
   "cell_type": "code",
   "execution_count": null,
   "metadata": {},
   "outputs": [],
   "source": [
    "# Import PPO \n",
    "from stable_baselines3 import PPO\n",
    "# Evaluate Policy\n",
    "from stable_baselines3.common.evaluation import evaluate_policy\n",
    "# Import wrappers\n",
    "from stable_baselines3.common.monitor import Monitor\n",
    "from stable_baselines3.common.vec_env import DummyVecEnv, VecFrameStack\n",
    "import os "
   ]
  },
  {
   "cell_type": "code",
   "execution_count": null,
   "metadata": {},
   "outputs": [],
   "source": [
    "LOG_DIR = './logs/'\n",
    "OPT_DIR = './opt_nodelta/'"
   ]
  },
  {
   "cell_type": "code",
   "execution_count": null,
   "metadata": {},
   "outputs": [],
   "source": [
    "import os \n",
    "from stable_baselines3.common.callbacks import BaseCallback"
   ]
  },
  {
   "cell_type": "code",
   "execution_count": null,
   "metadata": {},
   "outputs": [],
   "source": [
    "class TrainAndLoggingCallback(BaseCallback):\n",
    "\n",
    "    def __init__(self, check_freq, save_path, verbose=1):\n",
    "        super(TrainAndLoggingCallback, self).__init__(verbose)\n",
    "        self.check_freq = check_freq\n",
    "        self.save_path = save_path\n",
    "\n",
    "    def _init_callback(self):\n",
    "        if self.save_path is not None:\n",
    "            os.makedirs(self.save_path, exist_ok=True)\n",
    "\n",
    "    def _on_step(self):\n",
    "        if self.n_calls % self.check_freq == 0:\n",
    "            model_path = os.path.join(self.save_path, 'best_model_{}'.format(self.n_calls))\n",
    "            self.model.save(model_path)\n",
    "\n",
    "        return True"
   ]
  },
  {
   "cell_type": "code",
   "execution_count": null,
   "metadata": {},
   "outputs": [],
   "source": [
    "CHECKPOINT_DIR = './train_ppo_def_ver2/'"
   ]
  },
  {
   "cell_type": "code",
   "execution_count": null,
   "metadata": {},
   "outputs": [],
   "source": [
    "callback = TrainAndLoggingCallback(check_freq=10000, save_path=CHECKPOINT_DIR)"
   ]
  },
  {
   "cell_type": "code",
   "execution_count": null,
   "metadata": {},
   "outputs": [],
   "source": [
    "env.close()"
   ]
  },
  {
   "cell_type": "code",
   "execution_count": null,
   "metadata": {},
   "outputs": [],
   "source": [
    "env = StreetFighter()\n",
    "env = Monitor(env, LOG_DIR)\n",
    "env = DummyVecEnv([lambda: env])\n",
    "env = VecFrameStack(env, 4, channels_order='last')"
   ]
  },
  {
   "cell_type": "code",
   "execution_count": null,
   "metadata": {},
   "outputs": [],
   "source": [
    "model_params = {'n_steps': 2048, 'gamma': 0.99, 'learning_rate': 0.0003, 'clip_range': 0.2, 'gae_lambda': 0.95, 'ent_coef': 0.0, 'vf_coef': 0.5, 'max_grad_norm': 0.5}# def"
   ]
  },
  {
   "cell_type": "code",
   "execution_count": null,
   "metadata": {},
   "outputs": [],
   "source": [
    "#For solving memory type of errors\n",
    "import torch\n",
    "import gc\n",
    "\n",
    "gc.collect()\n",
    "\n",
    "torch.cuda.empty_cache()\n",
    "os.environ['CUDA_LAUNCH_BLOCKING'] = \"1\""
   ]
  },
  {
   "cell_type": "code",
   "execution_count": null,
   "metadata": {},
   "outputs": [],
   "source": [
    "model = PPO('CnnPolicy', env, tensorboard_log=LOG_DIR, verbose=1, **model_params)\n"
   ]
  },
  {
   "cell_type": "code",
   "execution_count": null,
   "metadata": {
    "scrolled": true,
    "tags": []
   },
   "outputs": [],
   "source": [
    "model.learn(total_timesteps=10000000, callback=callback)"
   ]
  },
  {
   "cell_type": "code",
   "execution_count": null,
   "metadata": {},
   "outputs": [],
   "source": [
    "env.close()"
   ]
  },
  {
   "cell_type": "code",
   "execution_count": null,
   "metadata": {},
   "outputs": [],
   "source": [
    "env = StreetFighter()\n",
    "env = Monitor(env, LOG_DIR)\n",
    "env = DummyVecEnv([lambda: env])\n",
    "env = VecFrameStack(env, 4, channels_order='last')"
   ]
  },
  {
   "cell_type": "code",
   "execution_count": null,
   "metadata": {},
   "outputs": [],
   "source": [
    "final_reward=0\n",
    "won_en=[]\n",
    "for episode in range(10): \n",
    "    obs = env.reset()\n",
    "    done = False\n",
    "    total_reward = 0\n",
    "    enemies_won=0\n",
    "    while not done: \n",
    "        action, _ = model.predict(obs)\n",
    "        obs, reward, done, info = env.step(action)\n",
    "        env.render()\n",
    "        #time.sleep(0.001)   \n",
    "        total_reward += reward\n",
    "        if info['matches_won']==2:              #οτι νικησε δλδ εναν αντιπαλο\n",
    "            enemies_won+=1\n",
    "    won_en.append(enemies_won)\n",
    "\n",
    "    print('Total Reward for episode {} is {} and total enemies won is {}'.format(episode, total_reward, enemies_won))   \n",
    "    final_reward+=total_reward   \n",
    "print('Final Reward for 10 episodes is', final_reward, won_en)\n"
   ]
  },
  {
   "cell_type": "code",
   "execution_count": null,
   "metadata": {},
   "outputs": [],
   "source": []
  }
 ],
 "metadata": {
  "kernelspec": {
   "display_name": "Python 3",
   "language": "python",
   "name": "python3"
  },
  "language_info": {
   "codemirror_mode": {
    "name": "ipython",
    "version": 3
   },
   "file_extension": ".py",
   "mimetype": "text/x-python",
   "name": "python",
   "nbconvert_exporter": "python",
   "pygments_lexer": "ipython3",
   "version": "3.8.10"
  }
 },
 "nbformat": 4,
 "nbformat_minor": 4
}
